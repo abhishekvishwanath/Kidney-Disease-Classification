{
  "nbformat": 4,
  "nbformat_minor": 0,
  "metadata": {
    "colab": {
      "provenance": [],
      "gpuType": "T4"
    },
    "kernelspec": {
      "name": "python3",
      "display_name": "Python 3"
    },
    "language_info": {
      "name": "python"
    },
    "accelerator": "GPU"
  },
  "cells": [
    {
      "cell_type": "code",
      "execution_count": null,
      "metadata": {
        "colab": {
          "base_uri": "https://localhost:8080/"
        },
        "id": "B15964OrKqCS",
        "outputId": "0a1cb8ce-d17d-456c-86d2-9f9393a346a4"
      },
      "outputs": [
        {
          "output_type": "stream",
          "name": "stdout",
          "text": [
            "Drive already mounted at /content/drive; to attempt to forcibly remount, call drive.mount(\"/content/drive\", force_remount=True).\n",
            "Loading dataset...\n"
          ]
        }
      ],
      "source": [
        "# ===============================\n",
        "# Kidney Classification - Colab Training using Folder Names\n",
        "# ===============================\n",
        "\n",
        "import os\n",
        "import numpy as np\n",
        "from PIL import Image\n",
        "from sklearn.model_selection import train_test_split\n",
        "from tensorflow.keras import layers, models, optimizers\n",
        "from tensorflow.keras.utils import to_categorical\n",
        "from sklearn.metrics import classification_report\n",
        "import matplotlib.pyplot as plt\n",
        "from google.colab import drive\n",
        "\n",
        "# -------------------------\n",
        "# 1. Mount Google Drive\n",
        "# -------------------------\n",
        "drive.mount('/content/drive')\n",
        "\n",
        "# -------------------------\n",
        "# 2. Paths and Config\n",
        "# -------------------------\n",
        "DATASET_ROOT = \"/content/drive/MyDrive/Data/CT-KIDNEY-DATASET-Normal-Cyst-Tumor-Stone\"\n",
        "IMAGE_HEIGHT, IMAGE_WIDTH = 128, 128\n",
        "EPOCHS = 10\n",
        "BATCH_SIZE = 32\n",
        "LEARNING_RATE = 1e-3\n",
        "TEST_SIZE = 0.2\n",
        "\n",
        "# -------------------------\n",
        "# 3. Load Images\n",
        "# -------------------------\n",
        "print(\"Loading dataset...\")\n",
        "X, y, class_names = [], [], []\n",
        "\n",
        "for idx, class_name in enumerate(sorted(os.listdir(DATASET_ROOT))):\n",
        "    class_path = os.path.join(DATASET_ROOT, class_name)\n",
        "    if not os.path.isdir(class_path):\n",
        "        continue\n",
        "    class_names.append(class_name)\n",
        "    for fname in os.listdir(class_path):\n",
        "        fpath = os.path.join(class_path, fname)\n",
        "        if not os.path.isfile(fpath):\n",
        "            continue\n",
        "        if os.path.splitext(fpath)[1].lower() not in [\".jpg\", \".jpeg\", \".png\", \".bmp\", \".webp\"]:\n",
        "            continue\n",
        "        try:\n",
        "            img = Image.open(fpath).convert(\"RGB\")\n",
        "            img = img.resize((IMAGE_WIDTH, IMAGE_HEIGHT))\n",
        "            X.append(np.array(img, dtype=np.float32) / 255.0)\n",
        "            y.append(idx)\n",
        "        except:\n",
        "            continue\n",
        "\n",
        "X = np.array(X, dtype=np.float32)\n",
        "y = np.array(y, dtype=np.int64)\n",
        "print(f\"Dataset loaded: {X.shape[0]} images, Classes: {class_names}\")\n",
        "\n",
        "# -------------------------\n",
        "# 4. Split Data\n",
        "# -------------------------\n",
        "X_train, X_test, y_train, y_test = train_test_split(\n",
        "    X, y, test_size=TEST_SIZE, stratify=y, random_state=42\n",
        ")\n",
        "print(f\"Train: {X_train.shape}, Test: {X_test.shape}\")\n",
        "\n",
        "# -------------------------\n",
        "# 5. Model\n",
        "# -------------------------\n",
        "model = models.Sequential([\n",
        "    layers.Input(shape=(IMAGE_HEIGHT, IMAGE_WIDTH, 3)),\n",
        "    layers.Conv2D(32, (3,3), activation=\"relu\", padding=\"same\"),\n",
        "    layers.MaxPooling2D((2,2)),\n",
        "    layers.Conv2D(64, (3,3), activation=\"relu\", padding=\"same\"),\n",
        "    layers.MaxPooling2D((2,2)),\n",
        "    layers.Conv2D(128, (3,3), activation=\"relu\", padding=\"same\"),\n",
        "    layers.MaxPooling2D((2,2)),\n",
        "    layers.Dropout(0.3),\n",
        "    layers.Flatten(),\n",
        "    layers.Dense(256, activation=\"relu\"),\n",
        "    layers.Dropout(0.4),\n",
        "    layers.Dense(len(class_names), activation=\"softmax\")\n",
        "])\n",
        "\n",
        "model.compile(\n",
        "    optimizer=optimizers.Adam(learning_rate=LEARNING_RATE),\n",
        "    loss=\"sparse_categorical_crossentropy\",\n",
        "    metrics=[\"accuracy\"]\n",
        ")\n",
        "\n",
        "model.summary()\n",
        "\n",
        "# -------------------------\n",
        "# 6. Train\n",
        "# -------------------------\n",
        "history = model.fit(\n",
        "    X_train, y_train,\n",
        "    validation_split=0.1,\n",
        "    epochs=EPOCHS,\n",
        "    batch_size=BATCH_SIZE,\n",
        "    shuffle=True,\n",
        "    verbose=1\n",
        ")\n",
        "\n",
        "# -------------------------\n",
        "# 7. Evaluate\n",
        "# -------------------------\n",
        "test_loss, test_acc = model.evaluate(X_test, y_test, verbose=0)\n",
        "print(f\"\\nTest Accuracy: {test_acc:.4f}\")\n",
        "\n",
        "y_pred = np.argmax(model.predict(X_test), axis=1)\n",
        "print(\"\\nClassification Report:\\n\")\n",
        "print(classification_report(y_test, y_pred, target_names=class_names))\n",
        "\n",
        "# -------------------------\n",
        "# 8. Save Model\n",
        "# -------------------------\n",
        "model_save_path = \"/content/drive/MyDrive/Data/kidney_cnn.h5\"\n",
        "model.save(model_save_path)\n",
        "print(f\"Model saved to {model_save_path}\")\n"
      ]
    },
    {
      "cell_type": "code",
      "source": [
        "import os\n",
        "\n",
        "DATASET_ROOT = \"/content/drive/MyDrive/Data/CT-KIDNEY-DATASET-Normal-Cyst-Tumor-Stone\"\n",
        "\n",
        "for folder in sorted(os.listdir(DATASET_ROOT)):\n",
        "    path = os.path.join(DATASET_ROOT, folder)\n",
        "    if os.path.isdir(path):\n",
        "        num_files = len([f for f in os.listdir(path) if f.lower().endswith((\".jpg\",\".jpeg\",\".png\"))])\n",
        "        print(f\"{folder}: {num_files} images\")\n"
      ],
      "metadata": {
        "colab": {
          "base_uri": "https://localhost:8080/"
        },
        "id": "fCQMt_IhO8i3",
        "outputId": "6d85facd-9c19-4a45-8804-214dfe6b863c"
      },
      "execution_count": 8,
      "outputs": [
        {
          "output_type": "stream",
          "name": "stdout",
          "text": [
            "Cyst: 0 images\n",
            "Normal: 0 images\n",
            "Stone: 0 images\n",
            "Tumor: 924 images\n"
          ]
        }
      ]
    },
    {
      "cell_type": "code",
      "source": [],
      "metadata": {
        "id": "490YrG5cO86i"
      },
      "execution_count": null,
      "outputs": []
    }
  ]
}